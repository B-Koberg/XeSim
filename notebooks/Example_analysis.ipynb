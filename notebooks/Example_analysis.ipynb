{
 "cells": [
  {
   "cell_type": "markdown",
   "id": "7966b9c6",
   "metadata": {},
   "source": [
    "# Example data analysis"
   ]
  },
  {
   "cell_type": "markdown",
   "id": "3901d24a",
   "metadata": {},
   "source": [
    "Execute the following command to run the simulation and generate the data files:\n",
    "```bash\n",
    "cd XeSim\n",
    "make && $G4WORKDIR/bin/Linux-g++/XeSim -d template -p ./macros/template/preinit.mac -c ./macros/template/det_setup.mac -f ./macros/template/src_neutron.mac -n 10000\n",
    "```"
   ]
  },
  {
   "cell_type": "code",
   "execution_count": 1,
   "id": "f67f6a91",
   "metadata": {},
   "outputs": [],
   "source": [
    "import uproot\n",
    "import awkward as ak\n",
    "import numpy as np"
   ]
  },
  {
   "cell_type": "markdown",
   "id": "b9457312",
   "metadata": {},
   "source": [
    "## Read meta data"
   ]
  },
  {
   "cell_type": "code",
   "execution_count": 2,
   "id": "63a36b82",
   "metadata": {},
   "outputs": [
    {
     "name": "stdout",
     "output_type": "stream",
     "text": [
      "The file contains 15 keys:\n",
      "  G4VERSION_TAG;1\n",
      "  MC_TAG;1\n",
      "  MCVERSION_TAG;1\n",
      "  macros;1\n",
      "  macros/preinit.mac;1\n",
      "  macros/det_setup.mac;1\n",
      "  macros/src_neutron.mac;1\n",
      "  tables;1\n",
      "  tables/process_subtypes;1\n",
      "  tables/logical_volumes;1\n",
      "  tables/physical_volumes;1\n",
      "  events;1\n",
      "  events/nbevents;1\n",
      "  events/events;1\n",
      "  G4RUNTIME;1\n",
      "\n",
      "Executed with G4VERSION $Name: geant4-10-06-patch-03 $\n",
      "Total runtime: 0.679983898 seconds\n",
      "Number of events: 100\n",
      "\n",
      "Using the macros:\n",
      "--> preinit.mac\n",
      "    File content hidden for brevity ...\n",
      "--> det_setup.mac\n",
      "    File content hidden for brevity ...\n",
      "--> src_neutron.mac\n",
      "    File content hidden for brevity ...\n"
     ]
    }
   ],
   "source": [
    "file = \"../events.root\"\n",
    "rfile = uproot.open(file)\n",
    "\n",
    "print(f\"The file contains {len(rfile.keys())} keys:\")\n",
    "for key in rfile.keys():\n",
    "    print(f\"  {key}\")\n",
    "\n",
    "print(f\"\\nExecuted with G4VERSION {rfile['G4VERSION_TAG'].member('fTitle')}\")\n",
    "print(f\"Total runtime: {rfile['G4RUNTIME'].member('fVal')} seconds\")\n",
    "print(f\"Number of events: {rfile['events/nbevents'].member('fVal')}\")\n",
    "\n",
    "print(f\"\\nUsing the macros:\")\n",
    "for macro in rfile[\"macros\"].keys():\n",
    "    print(f\"--> {rfile['macros'][macro].member('fName')}\")\n",
    "    print(f\"    File content hidden for brevity ...\")\n",
    "    #for line in rfile[\"macros\"][macro].member('fTitle').splitlines():\n",
    "    #    print(f\"    {line}\")\n",
    "    #print(\"\")"
   ]
  },
  {
   "cell_type": "code",
   "execution_count": 22,
   "id": "ce1f7dd5",
   "metadata": {},
   "outputs": [
    {
     "name": "stdout",
     "output_type": "stream",
     "text": [
      "\n",
      "Physical volumes: dict_keys(['Lab', 'LXe', 'GXe', 'LXePTFECylinder', 'GXePTFECylinder', 'GXePTFETop', 'PmtPhotoCathode', 'LXePTFEBottom'])\n",
      "Particle PDG code of 2112 is neutron.\n",
      "Process type of 210 is RadioactiveDecayBase.\n"
     ]
    }
   ],
   "source": [
    "# Read tables for types and volumes\n",
    "physical_volumes = {}\n",
    "for k,v in zip(*rfile[\"tables/physical_volumes\"].arrays(library=\"np\", how=list)):\n",
    "    physical_volumes = {**physical_volumes, **{k: v for k, v in zip(k, v)}}\n",
    "\n",
    "print(f\"\\nPhysical volumes: {physical_volumes.keys()}\")\n",
    "\n",
    "subtypes_table = rfile[\"tables/process_subtypes\"].arrays(library=\"np\")\n",
    "\n",
    "particle_ids = {}\n",
    "for k,v in zip(subtypes_table['particle_id'], subtypes_table['particle_name']):\n",
    "    particle_ids = {**particle_ids, **{k: v for k, v in zip(k, v)}}\n",
    "\n",
    "def get_particle_name(particle_id):\n",
    "    \"\"\"Get the particle name from the particle PDG code.\"\"\"\n",
    "    if particle_id in particle_ids:\n",
    "        return particle_ids[particle_id]\n",
    "    else:\n",
    "        return f\"Unknown particle code {particle_id}\"\n",
    "\n",
    "print(f\"Particle PDG code of 2112 is {get_particle_name(2112)}.\")\n",
    "\n",
    "process_subtype = {}\n",
    "for k,v in zip(subtypes_table['process_subtype'], subtypes_table['process_name']):\n",
    "    process_subtype = {**process_subtype, **{k: v for k, v in zip(k, v)}}\n",
    "\n",
    "def get_process_name(process_id):\n",
    "    \"\"\"Get the process name from the process ID.\"\"\"\n",
    "    if process_id in process_subtype:\n",
    "        return process_subtype[process_id]\n",
    "    else:\n",
    "        return f\"Unknown process ID {process_id}\"\n",
    "\n",
    "print(f\"Process type of 210 is {get_process_name(210)}.\")"
   ]
  },
  {
   "cell_type": "markdown",
   "id": "819e263c",
   "metadata": {},
   "source": [
    "## Load small data files"
   ]
  },
  {
   "cell_type": "code",
   "execution_count": null,
   "id": "15749762",
   "metadata": {},
   "outputs": [],
   "source": []
  }
 ],
 "metadata": {
  "kernelspec": {
   "display_name": "Python 3",
   "language": "python",
   "name": "python3"
  },
  "language_info": {
   "codemirror_mode": {
    "name": "ipython",
    "version": 3
   },
   "file_extension": ".py",
   "mimetype": "text/x-python",
   "name": "python",
   "nbconvert_exporter": "python",
   "pygments_lexer": "ipython3",
   "version": "3.10.11"
  }
 },
 "nbformat": 4,
 "nbformat_minor": 5
}
